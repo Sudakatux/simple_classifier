{
 "cells": [
  {
   "cell_type": "code",
   "execution_count": 7,
   "metadata": {},
   "outputs": [],
   "source": [
    "from bs4 import BeautifulSoup\n",
    "import requests\n",
    "import re\n",
    "import urllib2\n",
    "import os\n",
    "import argparse\n",
    "import sys\n",
    "import json\n",
    "\n",
    "# adapted from http://stackoverflow.com/questions/20716842/python-download-images-from-google-image-search\n",
    "\n",
    "def get_soup(url,header):\n",
    "    return BeautifulSoup(urllib2.urlopen(urllib2.Request(url,headers=header)),'html.parser')\n",
    "\n",
    "def main(query):\n",
    "\tmax_images = 10\n",
    "\tsave_directory = '/home/jimmy/Curso_ML/jugando/data'\n",
    "\timage_type=\"Action\"\n",
    "\tquery= query.split()\n",
    "\tquery='+'.join(query)\n",
    "\turl=\"https://www.google.co.in/search?q=\"+query+\"&source=lnms&tbm=isch\"\n",
    "\theader={'User-Agent':\"Mozilla/5.0 (Windows NT 6.1; WOW64) AppleWebKit/537.36 (KHTML, like Gecko) Chrome/43.0.2357.134 Safari/537.36\"}\n",
    "\tsoup = get_soup(url,header)\n",
    "\tActualImages=[]# contains the link for Large original images, type of  image\n",
    "\tfor a in soup.find_all(\"div\",{\"class\":\"rg_meta\"}):\n",
    "\t    link , Type =json.loads(a.text)[\"ou\"]  ,json.loads(a.text)[\"ity\"]\n",
    "\t    ActualImages.append((link,Type))\n",
    "\tfor i , (img , Type) in enumerate( ActualImages[0:max_images]):\n",
    "\t    try:\n",
    "\t        req = urllib2.Request(img, headers={'User-Agent' : header})\n",
    "\t        raw_img = urllib2.urlopen(req).read()\n",
    "\t        if len(Type)==0:\n",
    "\t            f = open(os.path.join(save_directory , \"img\" + \"_\"+ str(i)+\".jpg\"), 'wb')\n",
    "\t        else :\n",
    "\t            f = open(os.path.join(save_directory , \"img\" + \"_\"+ str(i)+\".\"+Type), 'wb')\n",
    "\t        f.write(raw_img)\n",
    "\t        f.close()\n",
    "\t    except Exception as e:\n",
    "\t        print \"could not load : \"+img\n",
    "\t        print e\n"
   ]
  },
  {
   "cell_type": "code",
   "execution_count": 8,
   "metadata": {},
   "outputs": [
    {
     "name": "stdout",
     "output_type": "stream",
     "text": [
      "could not load : https://http2.mlstatic.com/pala-de-acero-de-punta-o-ancha-cabo-de-madera-D_NQ_NP_520601-MLA20369195221_082015-F.jpg\n",
      "<urlopen error [Errno -3] Temporary failure in name resolution>\n"
     ]
    }
   ],
   "source": [
    "main(\"pala\")"
   ]
  },
  {
   "cell_type": "code",
   "execution_count": null,
   "metadata": {},
   "outputs": [],
   "source": []
  }
 ],
 "metadata": {
  "kernelspec": {
   "display_name": "Python 2",
   "language": "python",
   "name": "python2"
  },
  "language_info": {
   "codemirror_mode": {
    "name": "ipython",
    "version": 2
   },
   "file_extension": ".py",
   "mimetype": "text/x-python",
   "name": "python",
   "nbconvert_exporter": "python",
   "pygments_lexer": "ipython2",
   "version": "2.7.15"
  }
 },
 "nbformat": 4,
 "nbformat_minor": 2
}
